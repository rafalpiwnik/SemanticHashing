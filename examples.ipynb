{
 "cells": [
  {
   "cell_type": "code",
   "execution_count": 52,
   "metadata": {
    "collapsed": true
   },
   "outputs": [
    {
     "name": "stderr",
     "output_type": "stream",
     "text": [
      "0it [00:00, ?it/s]\n",
      "100%|██████████| 100/100 [00:00<00:00, 99840.61it/s]\n",
      "100%|██████████| 100/100 [00:00<00:00, 100031.10it/s]\n",
      "100%|██████████| 100/100 [00:00<00:00, 100102.72it/s]\n",
      "100%|██████████| 100/100 [00:00<00:00, 99816.85it/s]\n",
      "100%|██████████| 100/100 [00:00<00:00, 100007.25it/s]\n",
      "100%|██████████| 100/100 [00:00<?, ?it/s]\n",
      "100%|██████████| 100/100 [00:00<?, ?it/s]\n",
      "100%|██████████| 100/100 [00:00<?, ?it/s]\n",
      "100%|██████████| 100/100 [00:00<?, ?it/s]\n",
      "100%|██████████| 100/100 [00:00<?, ?it/s]\n",
      "100%|██████████| 100/100 [00:00<?, ?it/s]\n",
      "100%|██████████| 100/100 [00:00<?, ?it/s]\n",
      "100%|██████████| 100/100 [00:00<?, ?it/s]\n",
      "100%|██████████| 100/100 [00:00<00:00, 100126.62it/s]\n",
      "100%|██████████| 100/100 [00:00<?, ?it/s]\n",
      "100%|██████████| 100/100 [00:00<?, ?it/s]\n",
      "100%|██████████| 100/100 [00:00<?, ?it/s]\n",
      "100%|██████████| 100/100 [00:00<00:00, 99273.47it/s]\n",
      "100%|██████████| 100/100 [00:00<?, ?it/s]\n",
      "100%|██████████| 100/100 [00:00<00:00, 99959.58it/s]\n"
     ]
    }
   ],
   "source": [
    "from preprocess import DocumentVectorizer, get_paths, save_vectorizer\n",
    "\n",
    "v = DocumentVectorizer(2000)\n",
    "paths = get_paths(\"datasets/mini_newsgroups/mini_newsgroups\")\n",
    "X, words = v.fit_transform(paths)"
   ]
  },
  {
   "cell_type": "code",
   "execution_count": 53,
   "outputs": [],
   "source": [
    "v.save_transform(X, words, \"models\", \"mini_ng\")\n",
    "save_vectorizer(v, \"models/mini_ng\")"
   ],
   "metadata": {
    "collapsed": false,
    "pycharm": {
     "name": "#%%\n"
    }
   }
  }
 ],
 "metadata": {
  "kernelspec": {
   "display_name": "Python 3",
   "language": "python",
   "name": "python3"
  },
  "language_info": {
   "codemirror_mode": {
    "name": "ipython",
    "version": 2
   },
   "file_extension": ".py",
   "mimetype": "text/x-python",
   "name": "python",
   "nbconvert_exporter": "python",
   "pygments_lexer": "ipython2",
   "version": "2.7.6"
  }
 },
 "nbformat": 4,
 "nbformat_minor": 0
}